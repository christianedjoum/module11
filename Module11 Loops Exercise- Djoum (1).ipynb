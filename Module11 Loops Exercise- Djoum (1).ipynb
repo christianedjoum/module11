{
 "cells": [
  {
   "cell_type": "markdown",
   "metadata": {},
   "source": [
    "### Exercise 1\n",
    "Create a multiplication table from 1 to 10"
   ]
  },
  {
   "cell_type": "code",
   "execution_count": null,
   "metadata": {},
   "outputs": [],
   "source": [
    "def multiplication_table():\n",
    "    multiplication = []\n",
    "    for i in range(1,11):\n",
    "        for j in range(1,11):\n",
    "            multiplication.append(i*j)\n",
    "    print(multiplication)"
   ]
  },
  {
   "cell_type": "code",
   "execution_count": null,
   "metadata": {
    "scrolled": true
   },
   "outputs": [],
   "source": [
    "multiplication_table()"
   ]
  },
  {
   "cell_type": "markdown",
   "metadata": {},
   "source": [
    "### Exercise 2\n",
    "Write a program to find the Fibonacci numbers where each number is the sum of the two preceding ones, starting from 0 and 1. \n",
    "\n",
    "    e.g.\n",
    "    0, 1, 1, 2, 3, 5, 8, ...\n",
    "    \n",
    "Ask a user to enter a number. Next, generate user specified number of Fibonacci numbers into a list. Then print out the list. The output should look something like this:\n",
    "\n",
    "    How many Fibonacci numbers would you like to generate? 10    \n",
    "    10 Fibonacci numbers are [0, 1, 1, 2, 3, 5, 8, 13, 21, 34]."
   ]
  },
  {
   "cell_type": "code",
   "execution_count": 60,
   "metadata": {},
   "outputs": [],
   "source": [
    "def Fibonacci():\n",
    "    number = int(input('How many Fibonacci numbers would you like to generate? '))\n",
    "    list_of_fibonacci=[]\n",
    "    if number == 0:\n",
    "        list_of_fibonacci = [0]\n",
    "    elif number == 1:\n",
    "        list_of_fibonacci = [0,1]\n",
    "    else:\n",
    "        #x=0\n",
    "        list_of_fibonacci = [0,1]\n",
    "        for x in range(2,number+1):\n",
    "            list_of_fibonacci.append(0)\n",
    "            for y in list_of_fibonacci:\n",
    "                num_1=number-2\n",
    "                num_2=number-3\n",
    "                value_to_append = list_of_fibonacci[num_1] + list_of_fibonacci[num_2]\n",
    "                list_of_fibonacci[number]=value_to_append\n",
    "                print(list_of_fibonacci)\n",
    "        \n",
    "            #for x in range(2,number+1):\n",
    "            #num_1=number-1\n",
    "            #num_2=number-2\n",
    "            #value_to_append = list_of_fibonacci[num_1] + list_of_fibonacci[num_2]\n",
    "            #list_of_fibonacci[number]=value_to_append\n",
    "            #print(list_of_fibonacci)\n",
    "            #x += 1\n",
    "    print(f'{number} Fibonacci numbers are {list_of_fibonacci}')"
   ]
  },
  {
   "cell_type": "code",
   "execution_count": 61,
   "metadata": {},
   "outputs": [
    {
     "name": "stdout",
     "output_type": "stream",
     "text": [
      "How many Fibonacci numbers would you like to generate? 2\n",
      "[0, 1, 0]\n",
      "[0, 1, 0]\n",
      "[0, 1, 0]\n",
      "2 Fibonacci numbers are [0, 1, 0]\n"
     ]
    }
   ],
   "source": [
    "Fibonacci()"
   ]
  },
  {
   "cell_type": "code",
   "execution_count": null,
   "metadata": {},
   "outputs": [],
   "source": []
  },
  {
   "cell_type": "code",
   "execution_count": null,
   "metadata": {},
   "outputs": [],
   "source": []
  },
  {
   "cell_type": "code",
   "execution_count": null,
   "metadata": {},
   "outputs": [],
   "source": []
  },
  {
   "cell_type": "code",
   "execution_count": null,
   "metadata": {},
   "outputs": [],
   "source": []
  }
 ],
 "metadata": {
  "kernelspec": {
   "display_name": "Python 3",
   "language": "python",
   "name": "python3"
  },
  "language_info": {
   "codemirror_mode": {
    "name": "ipython",
    "version": 3
   },
   "file_extension": ".py",
   "mimetype": "text/x-python",
   "name": "python",
   "nbconvert_exporter": "python",
   "pygments_lexer": "ipython3",
   "version": "3.8.5"
  }
 },
 "nbformat": 4,
 "nbformat_minor": 4
}
